{
  "nbformat": 4,
  "nbformat_minor": 0,
  "metadata": {
    "colab": {
      "provenance": [],
      "authorship_tag": "ABX9TyNwS3TuXBn9xuzTR7p16qU2",
      "include_colab_link": true
    },
    "kernelspec": {
      "name": "python3",
      "display_name": "Python 3"
    },
    "language_info": {
      "name": "python"
    }
  },
  "cells": [
    {
      "cell_type": "markdown",
      "metadata": {
        "id": "view-in-github",
        "colab_type": "text"
      },
      "source": [
        "<a href=\"https://colab.research.google.com/github/paul-66666/CS497-Capstone/blob/main/Root_cause_analysis_system_for_negative_reviews.ipynb\" target=\"_parent\"><img src=\"https://colab.research.google.com/assets/colab-badge.svg\" alt=\"Open In Colab\"/></a>"
      ]
    },
    {
      "cell_type": "code",
      "execution_count": null,
      "metadata": {
        "id": "Gb38gr3V_Cyo"
      },
      "outputs": [],
      "source": [
        "# 安装轻量工具：yake(关键词抽取)；其余库Colab自带，保险起见再装一遍\n",
        "!pip -q install yake\n"
      ]
    },
    {
      "cell_type": "code",
      "source": [
        "# 仅当还没运行过下载数据时使用\n",
        "import kagglehub\n",
        "path = kagglehub.dataset_download(\"beaglelee/amazon-reviews-us-beauty-v1-00-tsv-zip\")\n",
        "print(\"Path to dataset files:\", path)\n"
      ],
      "metadata": {
        "id": "dX1MW0kv_MJe"
      },
      "execution_count": null,
      "outputs": []
    },
    {
      "cell_type": "code",
      "source": [
        "import os, re, zipfile, json, random, math, itertools, gc\n",
        "import numpy as np\n",
        "import pandas as pd\n",
        "import matplotlib.pyplot as plt\n",
        "\n",
        "from sklearn.model_selection import train_test_split\n",
        "from sklearn.metrics import classification_report\n",
        "from sklearn.feature_extraction.text import TfidfVectorizer\n",
        "from sklearn.cluster import KMeans\n",
        "from sklearn.metrics import silhouette_score\n",
        "\n",
        "import tensorflow as tf\n",
        "from tensorflow.keras.preprocessing.text import Tokenizer\n",
        "from tensorflow.keras.preprocessing.sequence import pad_sequences\n",
        "from tensorflow.keras import Sequential, layers\n",
        "from tensorflow.keras.layers import Embedding, Bidirectional, LSTM, Dense, Dropout, Layer\n",
        "from tensorflow.keras.callbacks import EarlyStopping\n",
        "\n",
        "import yake  # 关键词抽取\n",
        "\n",
        "# ---------- 路径处理：承接此前单元中的变量 ----------\n",
        "# 之前的代码里已拿到 `path`（kagglehub 下载目录）。这里稳妥起见做一层检查。\n",
        "assert 'path' in globals(), \"The variable 'path' was not found. Please run the cell where the data was downloaded first\"\n",
        "\n",
        "DOWNLOAD_DIR = path  # 例如：/root/.cache/kagglehub/datasets/.../versions/1\n",
        "# 数据集内通常会提供 zip 和/或 tsv，做兼容处理：\n",
        "tsv_file = None\n",
        "zip_file = None\n",
        "for fname in os.listdir(DOWNLOAD_DIR):\n",
        "    if fname.lower().endswith(\".tsv\"): tsv_file = os.path.join(DOWNLOAD_DIR, fname)\n",
        "    if fname.lower().endswith(\".zip\"): zip_file = os.path.join(DOWNLOAD_DIR, fname)\n",
        "\n",
        "# 如果只有 zip，就解压得到 tsv\n",
        "if tsv_file is None and zip_file is not None:\n",
        "    with zipfile.ZipFile(zip_file, 'r') as zf:\n",
        "        members = [m for m in zf.namelist() if m.lower().endswith(\".tsv\")]\n",
        "        assert len(members) >= 1, \"The tsv file was not found in the zip\"\n",
        "        zf.extract(members[0], DOWNLOAD_DIR)\n",
        "        tsv_file = os.path.join(DOWNLOAD_DIR, members[0])\n",
        "\n",
        "print(\"TSV file:\", tsv_file)\n",
        "assert os.path.exists(tsv_file), \"The TSV file does not exist. Please check if the download/decompression was successful\"\n",
        "\n",
        "# ---------- 读取数据 ----------\n",
        "usecols = [\n",
        "    \"star_rating\", \"review_body\", \"review_date\",\n",
        "    \"product_title\", \"verified_purchase\", \"total_votes\", \"helpful_votes\"\n",
        "]\n",
        "df = pd.read_csv(tsv_file, sep='\\t', usecols=usecols, quoting=3, on_bad_lines='skip', dtype=str)\n",
        "# 类型转换\n",
        "df[\"star_rating\"] = pd.to_numeric(df[\"star_rating\"], errors=\"coerce\")\n",
        "df[\"total_votes\"] = pd.to_numeric(df[\"total_votes\"], errors=\"coerce\")\n",
        "df[\"helpful_votes\"] = pd.to_numeric(df[\"helpful_votes\"], errors=\"coerce\")\n",
        "df[\"review_body\"] = df[\"review_body\"].fillna(\"\").astype(str)\n",
        "\n",
        "# 仅保留有文本和星级的数据\n",
        "df = df.dropna(subset=[\"star_rating\"])\n",
        "df = df[df[\"review_body\"].str.strip().str.len() > 0].reset_index(drop=True)\n",
        "print(\"Total Row：\", len(df))\n",
        "df.head(3)\n"
      ],
      "metadata": {
        "id": "pDWinlJ8_Pqu"
      },
      "execution_count": null,
      "outputs": []
    },
    {
      "cell_type": "code",
      "source": [
        "# 论文目标：聚焦负面根因。这里先训练 \"负面(<=2星) vs 其他\" 的分类器\n",
        "df[\"label_negative\"] = (df[\"star_rating\"] <= 2).astype(int)\n",
        "\n",
        "# 为了在Colab快速跑通：抽样一个适中规模（可放大到 80k、150k）\n",
        "MAX_SAMPLES = 30000\n",
        "if len(df) > MAX_SAMPLES:\n",
        "    # 按类别分层抽样，避免类别不平衡\n",
        "    df_small = (df.groupby(\"label_negative\", group_keys=False)\n",
        "                  .apply(lambda x: x.sample(min(len(x), MAX_SAMPLES//2), random_state=42)))\n",
        "else:\n",
        "    df_small = df\n",
        "\n",
        "print(df_small[\"label_negative\"].value_counts())\n"
      ],
      "metadata": {
        "colab": {
          "base_uri": "https://localhost:8080/",
          "height": 221
        },
        "id": "z_Vf0vDJ_Oaj",
        "outputId": "306093f3-cdd2-4a7b-db95-5c02d815e7d7"
      },
      "execution_count": 1,
      "outputs": [
        {
          "output_type": "error",
          "ename": "NameError",
          "evalue": "name 'df' is not defined",
          "traceback": [
            "\u001b[0;31m---------------------------------------------------------------------------\u001b[0m",
            "\u001b[0;31mNameError\u001b[0m                                 Traceback (most recent call last)",
            "\u001b[0;32m/tmp/ipython-input-609783769.py\u001b[0m in \u001b[0;36m<cell line: 0>\u001b[0;34m()\u001b[0m\n\u001b[1;32m      1\u001b[0m \u001b[0;31m# 论文目标：聚焦负面根因。这里先训练 \"负面(<=2星) vs 其他\" 的分类器\u001b[0m\u001b[0;34m\u001b[0m\u001b[0;34m\u001b[0m\u001b[0m\n\u001b[0;32m----> 2\u001b[0;31m \u001b[0mdf\u001b[0m\u001b[0;34m[\u001b[0m\u001b[0;34m\"label_negative\"\u001b[0m\u001b[0;34m]\u001b[0m \u001b[0;34m=\u001b[0m \u001b[0;34m(\u001b[0m\u001b[0mdf\u001b[0m\u001b[0;34m[\u001b[0m\u001b[0;34m\"star_rating\"\u001b[0m\u001b[0;34m]\u001b[0m \u001b[0;34m<=\u001b[0m \u001b[0;36m2\u001b[0m\u001b[0;34m)\u001b[0m\u001b[0;34m.\u001b[0m\u001b[0mastype\u001b[0m\u001b[0;34m(\u001b[0m\u001b[0mint\u001b[0m\u001b[0;34m)\u001b[0m\u001b[0;34m\u001b[0m\u001b[0;34m\u001b[0m\u001b[0m\n\u001b[0m\u001b[1;32m      3\u001b[0m \u001b[0;34m\u001b[0m\u001b[0m\n\u001b[1;32m      4\u001b[0m \u001b[0;31m# 为了在Colab快速跑通：抽样一个适中规模（可放大到 80k、150k）\u001b[0m\u001b[0;34m\u001b[0m\u001b[0;34m\u001b[0m\u001b[0m\n\u001b[1;32m      5\u001b[0m \u001b[0mMAX_SAMPLES\u001b[0m \u001b[0;34m=\u001b[0m \u001b[0;36m30000\u001b[0m\u001b[0;34m\u001b[0m\u001b[0;34m\u001b[0m\u001b[0m\n",
            "\u001b[0;31mNameError\u001b[0m: name 'df' is not defined"
          ]
        }
      ]
    }
  ]
}